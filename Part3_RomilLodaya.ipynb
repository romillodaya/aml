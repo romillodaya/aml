{
  "nbformat": 4,
  "nbformat_minor": 0,
  "metadata": {
    "colab": {
      "name": "Part3_RomilLodaya.ipynb",
      "provenance": []
    },
    "kernelspec": {
      "name": "python3",
      "display_name": "Python 3"
    }
  },
  "cells": [
    {
      "cell_type": "markdown",
      "metadata": {
        "id": "CBqMUUirExQ8"
      },
      "source": [
        "1.Write the Python code to compute entropy and information gain"
      ]
    },
    {
      "cell_type": "code",
      "metadata": {
        "id": "RTkKDKwVCv8h"
      },
      "source": [
        "#import the required Libraries\n",
        "import numpy as np\n",
        "import pandas as pd\n",
        "eps = np.finfo(float).eps\n",
        "from numpy import log2 as log"
      ],
      "execution_count": null,
      "outputs": []
    },
    {
      "cell_type": "markdown",
      "metadata": {
        "id": "XmqMQ1USFOyl"
      },
      "source": [
        "**Note:**‘eps’ is the smallest representable number. At times we get log(0) or 0 in the denominator, to avoid that we are going to use this."
      ]
    },
    {
      "cell_type": "code",
      "metadata": {
        "id": "DmkcwjefFVZM"
      },
      "source": [
        "#define the dataset\n",
        "outlook = 'overcast,overcast,overcast,overcast,rainy,rainy,rainy,rainy,rainy,sunny,sunny,sunny,sunny,sunny'.split(',')\n",
        "temp = 'hot,cool,mild,hot,mild,cool,cool,mild,mild,hot,hot,mild,cool,mild'.split(',')\n",
        "humidity = 'high,normal,high,normal,high,normal,normal,normal,high,high,high,high,normal,normal'.split(',')\n",
        "windy = 'FALSE,TRUE,TRUE,FALSE,FALSE,FALSE,TRUE,FALSE,TRUE,FALSE,TRUE,FALSE,FALSE,TRUE'.split(',')\n",
        "play = 'yes,yes,yes,yes,yes,yes,no,yes,no,no,no,no,yes,yes'.split(',')"
      ],
      "execution_count": null,
      "outputs": []
    },
    {
      "cell_type": "code",
      "metadata": {
        "colab": {
          "base_uri": "https://localhost:8080/",
          "height": 489
        },
        "id": "cSQ6Xef7FltB",
        "outputId": "6c46089c-c5df-49a4-a4a7-3bd158a0c83d"
      },
      "source": [
        "dataset ={'outlook':outlook,'temp':temp,'humidity':humidity,'windy':windy,'play':play}\n",
        "df = pd.DataFrame(dataset,columns=['outlook','temp','humidity','windy','play'])\n",
        "df"
      ],
      "execution_count": null,
      "outputs": [
        {
          "output_type": "execute_result",
          "data": {
            "text/html": [
              "<div>\n",
              "<style scoped>\n",
              "    .dataframe tbody tr th:only-of-type {\n",
              "        vertical-align: middle;\n",
              "    }\n",
              "\n",
              "    .dataframe tbody tr th {\n",
              "        vertical-align: top;\n",
              "    }\n",
              "\n",
              "    .dataframe thead th {\n",
              "        text-align: right;\n",
              "    }\n",
              "</style>\n",
              "<table border=\"1\" class=\"dataframe\">\n",
              "  <thead>\n",
              "    <tr style=\"text-align: right;\">\n",
              "      <th></th>\n",
              "      <th>outlook</th>\n",
              "      <th>temp</th>\n",
              "      <th>humidity</th>\n",
              "      <th>windy</th>\n",
              "      <th>play</th>\n",
              "    </tr>\n",
              "  </thead>\n",
              "  <tbody>\n",
              "    <tr>\n",
              "      <th>0</th>\n",
              "      <td>overcast</td>\n",
              "      <td>hot</td>\n",
              "      <td>high</td>\n",
              "      <td>FALSE</td>\n",
              "      <td>yes</td>\n",
              "    </tr>\n",
              "    <tr>\n",
              "      <th>1</th>\n",
              "      <td>overcast</td>\n",
              "      <td>cool</td>\n",
              "      <td>normal</td>\n",
              "      <td>TRUE</td>\n",
              "      <td>yes</td>\n",
              "    </tr>\n",
              "    <tr>\n",
              "      <th>2</th>\n",
              "      <td>overcast</td>\n",
              "      <td>mild</td>\n",
              "      <td>high</td>\n",
              "      <td>TRUE</td>\n",
              "      <td>yes</td>\n",
              "    </tr>\n",
              "    <tr>\n",
              "      <th>3</th>\n",
              "      <td>overcast</td>\n",
              "      <td>hot</td>\n",
              "      <td>normal</td>\n",
              "      <td>FALSE</td>\n",
              "      <td>yes</td>\n",
              "    </tr>\n",
              "    <tr>\n",
              "      <th>4</th>\n",
              "      <td>rainy</td>\n",
              "      <td>mild</td>\n",
              "      <td>high</td>\n",
              "      <td>FALSE</td>\n",
              "      <td>yes</td>\n",
              "    </tr>\n",
              "    <tr>\n",
              "      <th>5</th>\n",
              "      <td>rainy</td>\n",
              "      <td>cool</td>\n",
              "      <td>normal</td>\n",
              "      <td>FALSE</td>\n",
              "      <td>yes</td>\n",
              "    </tr>\n",
              "    <tr>\n",
              "      <th>6</th>\n",
              "      <td>rainy</td>\n",
              "      <td>cool</td>\n",
              "      <td>normal</td>\n",
              "      <td>TRUE</td>\n",
              "      <td>no</td>\n",
              "    </tr>\n",
              "    <tr>\n",
              "      <th>7</th>\n",
              "      <td>rainy</td>\n",
              "      <td>mild</td>\n",
              "      <td>normal</td>\n",
              "      <td>FALSE</td>\n",
              "      <td>yes</td>\n",
              "    </tr>\n",
              "    <tr>\n",
              "      <th>8</th>\n",
              "      <td>rainy</td>\n",
              "      <td>mild</td>\n",
              "      <td>high</td>\n",
              "      <td>TRUE</td>\n",
              "      <td>no</td>\n",
              "    </tr>\n",
              "    <tr>\n",
              "      <th>9</th>\n",
              "      <td>sunny</td>\n",
              "      <td>hot</td>\n",
              "      <td>high</td>\n",
              "      <td>FALSE</td>\n",
              "      <td>no</td>\n",
              "    </tr>\n",
              "    <tr>\n",
              "      <th>10</th>\n",
              "      <td>sunny</td>\n",
              "      <td>hot</td>\n",
              "      <td>high</td>\n",
              "      <td>TRUE</td>\n",
              "      <td>no</td>\n",
              "    </tr>\n",
              "    <tr>\n",
              "      <th>11</th>\n",
              "      <td>sunny</td>\n",
              "      <td>mild</td>\n",
              "      <td>high</td>\n",
              "      <td>FALSE</td>\n",
              "      <td>no</td>\n",
              "    </tr>\n",
              "    <tr>\n",
              "      <th>12</th>\n",
              "      <td>sunny</td>\n",
              "      <td>cool</td>\n",
              "      <td>normal</td>\n",
              "      <td>FALSE</td>\n",
              "      <td>yes</td>\n",
              "    </tr>\n",
              "    <tr>\n",
              "      <th>13</th>\n",
              "      <td>sunny</td>\n",
              "      <td>mild</td>\n",
              "      <td>normal</td>\n",
              "      <td>TRUE</td>\n",
              "      <td>yes</td>\n",
              "    </tr>\n",
              "  </tbody>\n",
              "</table>\n",
              "</div>"
            ],
            "text/plain": [
              "     outlook  temp humidity  windy play\n",
              "0   overcast   hot     high  FALSE  yes\n",
              "1   overcast  cool   normal   TRUE  yes\n",
              "2   overcast  mild     high   TRUE  yes\n",
              "3   overcast   hot   normal  FALSE  yes\n",
              "4      rainy  mild     high  FALSE  yes\n",
              "5      rainy  cool   normal  FALSE  yes\n",
              "6      rainy  cool   normal   TRUE   no\n",
              "7      rainy  mild   normal  FALSE  yes\n",
              "8      rainy  mild     high   TRUE   no\n",
              "9      sunny   hot     high  FALSE   no\n",
              "10     sunny   hot     high   TRUE   no\n",
              "11     sunny  mild     high  FALSE   no\n",
              "12     sunny  cool   normal  FALSE  yes\n",
              "13     sunny  mild   normal   TRUE  yes"
            ]
          },
          "metadata": {
            "tags": []
          },
          "execution_count": 4
        }
      ]
    },
    {
      "cell_type": "markdown",
      "metadata": {
        "id": "Tlfz6dJgGU1_"
      },
      "source": [
        "**step1 : calculate entropy of the whole dataset**"
      ]
    },
    {
      "cell_type": "code",
      "metadata": {
        "colab": {
          "base_uri": "https://localhost:8080/"
        },
        "id": "3-mOJ3ahGaOg",
        "outputId": "7511c9c1-e74c-4de9-b79c-d274a9ec94c3"
      },
      "source": [
        "entropy_node = 0 \n",
        "values = df.play.unique() \n",
        "for value in values:\n",
        "    fraction = df.play.value_counts()[value]/len(df.play)  \n",
        "    entropy_node += -fraction*np.log2(fraction)\n",
        "print(entropy_node)"
      ],
      "execution_count": null,
      "outputs": [
        {
          "output_type": "stream",
          "text": [
            "0.9402859586706309\n"
          ],
          "name": "stdout"
        }
      ]
    },
    {
      "cell_type": "markdown",
      "metadata": {
        "id": "LtlhZukcHFHF"
      },
      "source": [
        "**step2: define a function {ent} to calculate entropy of each attribute**"
      ]
    },
    {
      "cell_type": "code",
      "metadata": {
        "id": "KTvmu03FHImg"
      },
      "source": [
        "def ent(df,attribute):\n",
        "    target_variables = df.play.unique()  \n",
        "    variables = df[attribute].unique()   \n",
        "\n",
        "\n",
        "    entropy_attribute = 0\n",
        "    for variable in variables:\n",
        "        entropy_each_feature = 0\n",
        "        for target_variable in target_variables:\n",
        "            num = len(df[attribute][df[attribute]==variable][df.play ==target_variable])\n",
        "            den = len(df[attribute][df[attribute]==variable])  \n",
        "            fraction = num/(den+eps)  \n",
        "            entropy_each_feature += -fraction*log(fraction+eps)\n",
        "        fraction2 = den/len(df)\n",
        "        entropy_attribute += -fraction2*entropy_each_feature  \n",
        "\n",
        "    return(abs(entropy_attribute))"
      ],
      "execution_count": null,
      "outputs": []
    },
    {
      "cell_type": "code",
      "metadata": {
        "colab": {
          "base_uri": "https://localhost:8080/"
        },
        "id": "zgdaUnbfIIzU",
        "outputId": "1e2dfa89-615d-4346-c2fb-2261fca0de6d"
      },
      "source": [
        "a_entropy = {k:ent(df,k) for k in df.keys()[:-1]}\n",
        "a_entropy"
      ],
      "execution_count": null,
      "outputs": [
        {
          "output_type": "execute_result",
          "data": {
            "text/plain": [
              "{'humidity': 0.7884504573082889,\n",
              " 'outlook': 0.6935361388961914,\n",
              " 'temp': 0.9110633930116756,\n",
              " 'windy': 0.892158928262361}"
            ]
          },
          "metadata": {
            "tags": []
          },
          "execution_count": 7
        }
      ]
    },
    {
      "cell_type": "markdown",
      "metadata": {
        "id": "X9bg_6bhIoSW"
      },
      "source": [
        "**step3 : calculate Info gain of each attribute :**"
      ]
    },
    {
      "cell_type": "code",
      "metadata": {
        "id": "MIFDqeJOIrgv"
      },
      "source": [
        "def ig(e_dataset,e_attr):\n",
        "    return(e_dataset-e_attr)"
      ],
      "execution_count": null,
      "outputs": []
    },
    {
      "cell_type": "code",
      "metadata": {
        "colab": {
          "base_uri": "https://localhost:8080/"
        },
        "id": "OwTILL3vJGDk",
        "outputId": "d993ce56-9449-476e-cad8-cb88ec75abc7"
      },
      "source": [
        "\n",
        "IG = {k:ig(entropy_node,a_entropy[k]) for k in a_entropy}\n",
        "IG"
      ],
      "execution_count": null,
      "outputs": [
        {
          "output_type": "execute_result",
          "data": {
            "text/plain": [
              "{'humidity': 0.15183550136234203,\n",
              " 'outlook': 0.24674981977443955,\n",
              " 'temp': 0.029222565658955313,\n",
              " 'windy': 0.04812703040826993}"
            ]
          },
          "metadata": {
            "tags": []
          },
          "execution_count": 10
        }
      ]
    },
    {
      "cell_type": "markdown",
      "metadata": {
        "id": "JPiG5NkCJuWk"
      },
      "source": [
        "**outlook has the highest info gain of 0.24 , therefore we will select outook as the node at this level for splitting.**"
      ]
    },
    {
      "cell_type": "markdown",
      "metadata": {
        "id": "IyClxx5CJzDy"
      },
      "source": [
        "#2.Write the  Python code to demonstrate conditional probability"
      ]
    },
    {
      "cell_type": "code",
      "metadata": {
        "id": "DvCoAQlzM2er"
      },
      "source": [
        "from itertools import product #to get cartesian product"
      ],
      "execution_count": null,
      "outputs": []
    },
    {
      "cell_type": "code",
      "metadata": {
        "colab": {
          "base_uri": "https://localhost:8080/"
        },
        "id": "jgCuOj4DNaPZ",
        "outputId": "5065306f-6a56-4c03-c373-b87e26645570"
      },
      "source": [
        "#example \n",
        "list(product([1,2],['a','b','c']))"
      ],
      "execution_count": null,
      "outputs": [
        {
          "output_type": "execute_result",
          "data": {
            "text/plain": [
              "[(1, 'a'), (1, 'b'), (1, 'c'), (2, 'a'), (2, 'b'), (2, 'c')]"
            ]
          },
          "metadata": {
            "tags": []
          },
          "execution_count": 13
        }
      ]
    },
    {
      "cell_type": "code",
      "metadata": {
        "colab": {
          "base_uri": "https://localhost:8080/"
        },
        "id": "opKTPzbaOE_S",
        "outputId": "f94c7be6-c7bd-46d8-9e53-c7539383ee47"
      },
      "source": [
        "n = 3 \n",
        "samplespace = set(product(['H','T'],repeat=n))\n",
        "samplespace"
      ],
      "execution_count": null,
      "outputs": [
        {
          "output_type": "execute_result",
          "data": {
            "text/plain": [
              "{('H', 'H', 'H'),\n",
              " ('H', 'H', 'T'),\n",
              " ('H', 'T', 'H'),\n",
              " ('H', 'T', 'T'),\n",
              " ('T', 'H', 'H'),\n",
              " ('T', 'H', 'T'),\n",
              " ('T', 'T', 'H'),\n",
              " ('T', 'T', 'T')}"
            ]
          },
          "metadata": {
            "tags": []
          },
          "execution_count": 15
        }
      ]
    },
    {
      "cell_type": "code",
      "metadata": {
        "colab": {
          "base_uri": "https://localhost:8080/"
        },
        "id": "Imy78Z_jObTg",
        "outputId": "135f36e9-cb81-41f7-8200-6e78c101c689"
      },
      "source": [
        "len(samplespace) "
      ],
      "execution_count": null,
      "outputs": [
        {
          "output_type": "execute_result",
          "data": {
            "text/plain": [
              "8"
            ]
          },
          "metadata": {
            "tags": []
          },
          "execution_count": 16
        }
      ]
    },
    {
      "cell_type": "code",
      "metadata": {
        "colab": {
          "base_uri": "https://localhost:8080/"
        },
        "id": "_C6sCecqOxSw",
        "outputId": "5c3b620f-c622-46ca-c91a-3c40fc1e3e72"
      },
      "source": [
        "A = { x for x in samplespace if x[0] == 'T'} \n",
        "A"
      ],
      "execution_count": null,
      "outputs": [
        {
          "output_type": "execute_result",
          "data": {
            "text/plain": [
              "{('T', 'H', 'H'), ('T', 'H', 'T'), ('T', 'T', 'H'), ('T', 'T', 'T')}"
            ]
          },
          "metadata": {
            "tags": []
          },
          "execution_count": 18
        }
      ]
    },
    {
      "cell_type": "code",
      "metadata": {
        "colab": {
          "base_uri": "https://localhost:8080/"
        },
        "id": "O-qlPzXAPM_D",
        "outputId": "4b9e525d-3ddd-4108-d9b2-7db69c004c89"
      },
      "source": [
        "B = { x for x in samplespace if x.count('T')==2} \n",
        "B"
      ],
      "execution_count": null,
      "outputs": [
        {
          "output_type": "execute_result",
          "data": {
            "text/plain": [
              "{('H', 'T', 'T'), ('T', 'H', 'T'), ('T', 'T', 'H')}"
            ]
          },
          "metadata": {
            "tags": []
          },
          "execution_count": 19
        }
      ]
    },
    {
      "cell_type": "code",
      "metadata": {
        "id": "JBnYTJnuP3Pq"
      },
      "source": [
        "def prob(X):\n",
        "  return len(X) / len(samplespace)"
      ],
      "execution_count": null,
      "outputs": []
    },
    {
      "cell_type": "code",
      "metadata": {
        "id": "8WA2hlXEQLSy"
      },
      "source": [
        "def cond_prob(X,Y):\n",
        "  return len(X & Y) / len(Y)"
      ],
      "execution_count": null,
      "outputs": []
    },
    {
      "cell_type": "code",
      "metadata": {
        "colab": {
          "base_uri": "https://localhost:8080/"
        },
        "id": "92n0CGnuQb2p",
        "outputId": "9425d68f-2872-4b40-e141-4347b4146a5b"
      },
      "source": [
        "prob(A)"
      ],
      "execution_count": null,
      "outputs": [
        {
          "output_type": "execute_result",
          "data": {
            "text/plain": [
              "0.5"
            ]
          },
          "metadata": {
            "tags": []
          },
          "execution_count": 23
        }
      ]
    },
    {
      "cell_type": "code",
      "metadata": {
        "colab": {
          "base_uri": "https://localhost:8080/"
        },
        "id": "z4m4bnk_Qes0",
        "outputId": "6916aeca-4aa7-4f7a-c0e0-9861f0f25013"
      },
      "source": [
        "prob(B)"
      ],
      "execution_count": null,
      "outputs": [
        {
          "output_type": "execute_result",
          "data": {
            "text/plain": [
              "0.375"
            ]
          },
          "metadata": {
            "tags": []
          },
          "execution_count": 24
        }
      ]
    },
    {
      "cell_type": "code",
      "metadata": {
        "colab": {
          "base_uri": "https://localhost:8080/"
        },
        "id": "8eqJJ5JuQhKo",
        "outputId": "23d6499b-a711-4b14-fce6-f9138de0ab8b"
      },
      "source": [
        "cond_prob(A,B)"
      ],
      "execution_count": null,
      "outputs": [
        {
          "output_type": "execute_result",
          "data": {
            "text/plain": [
              "0.6666666666666666"
            ]
          },
          "metadata": {
            "tags": []
          },
          "execution_count": 25
        }
      ]
    },
    {
      "cell_type": "markdown",
      "metadata": {
        "id": "KtR8ERWcQ0vD"
      },
      "source": [
        "#3. Write the  Python code to compute Euclidean Distance between data points"
      ]
    },
    {
      "cell_type": "code",
      "metadata": {
        "colab": {
          "base_uri": "https://localhost:8080/"
        },
        "id": "nV-GGOvwQ4GW",
        "outputId": "50af836e-dfb9-4f03-a99e-f99793bb68de"
      },
      "source": [
        "import numpy as np \n",
        "  \n",
        "# intializing points in \n",
        "# numpy arrays \n",
        "point1 = np.array([3, 4]) \n",
        "point2 = np.array([2, 2]) \n",
        "  \n",
        "# calculating Euclidean distance \n",
        "# using linalg.norm() \n",
        "dist = np.linalg.norm(point1 - point2) \n",
        "  \n",
        "# printing Euclidean distance \n",
        "print(dist) "
      ],
      "execution_count": null,
      "outputs": [
        {
          "output_type": "stream",
          "text": [
            "2.23606797749979\n"
          ],
          "name": "stdout"
        }
      ]
    },
    {
      "cell_type": "markdown",
      "metadata": {
        "id": "htjsZRzISFpx"
      },
      "source": [
        "#4. Write the  Python code to calculate covariance matrix, Eigen values and Eigen vectors"
      ]
    },
    {
      "cell_type": "code",
      "metadata": {
        "colab": {
          "base_uri": "https://localhost:8080/",
          "height": 265
        },
        "id": "nD4978MPSD7U",
        "outputId": "7a340a7d-a764-41eb-91fd-aea42aa689fc"
      },
      "source": [
        "import pandas as pd\n",
        "import seaborn as sn\n",
        "import matplotlib.pyplot as plt\n",
        "\n",
        "data = {'A': [9,15,25,14,10,18,0,16,5,19,16,20],\n",
        "        'B': [39,56,93,61,50,75,32,85,42,70,66,80]    \n",
        "        }\n",
        "\n",
        "df = pd.DataFrame(data,columns=['A','B'])\n",
        "\n",
        "covMatrix = pd.DataFrame.cov(df)\n",
        "sn.heatmap(covMatrix, annot=True, fmt='g')\n",
        "plt.show()\n"
      ],
      "execution_count": null,
      "outputs": [
        {
          "output_type": "display_data",
          "data": {
            "image/png": "[encoded data removed]",
            "text/plain": [
              "<Figure size 432x288 with 2 Axes>"
            ]
          },
          "metadata": {
            "tags": [],
            "needs_background": "light"
          }
        }
      ]
    },
    {
      "cell_type": "code",
      "metadata": {
        "colab": {
          "base_uri": "https://localhost:8080/"
        },
        "id": "FTLAL7d0yP3Z",
        "outputId": "a2d0ff24-f548-4e1c-c38f-befc78a09266"
      },
      "source": [
        "# importing numpy library \n",
        "import numpy as np \n",
        "  \n",
        "# create a covariance matix array\n",
        "c = covMatrix.values\n",
        "  \n",
        "print(\"Printing the covariance matrix:\\n\", \n",
        "      c) \n",
        "  \n",
        "# finding eigenvalues and eigenvectors \n",
        "eval, evec = np.linalg.eig(c) \n",
        "  \n",
        "# printing eigen values \n",
        "print(\"Printing the Eigen values of the given covariance matric:\\n\", eval) \n",
        "  \n",
        "# printing eigen vectors \n",
        "print(\"Printing Right eigenvectors of the given covariance matrix:\\n\",evec)"
      ],
      "execution_count": null,
      "outputs": [
        {
          "output_type": "stream",
          "text": [
            "Printing the covariance matrix:\n",
            " [[ 47.71969697 122.9469697 ]\n",
            " [122.9469697  370.08333333]]\n",
            "Printing the Eigen values of the given covariance matric:\n",
            " [  6.18117609 411.62185422]\n",
            "Printing Right eigenvectors of the given covariance matrix:\n",
            " [[-0.94738969 -0.32008244]\n",
            " [ 0.32008244 -0.94738969]]\n"
          ],
          "name": "stdout"
        }
      ]
    },
    {
      "cell_type": "markdown",
      "metadata": {
        "id": "jsklRm7r8OEU"
      },
      "source": [
        "# 5.Write the  Python code to calculate the following <br>\n",
        "# Accuracy <br>\n",
        "# Misclassification <br>\n",
        "# Type-1 and Type-2 error rates <br>\n",
        "# Sensitivity\n",
        "# Specificity"
      ]
    },
    {
      "cell_type": "code",
      "metadata": {
        "colab": {
          "base_uri": "https://localhost:8080/"
        },
        "id": "bkf0wTHn8prr",
        "outputId": "04c877e4-fbb2-4d57-fd17-24e541d0d6cf"
      },
      "source": [
        "from sklearn.metrics import confusion_matrix\n",
        "from sklearn import metrics\n",
        "ytest = [1, 0, 0, 1, 0, 0, 1, 1, 0, 0, 1, 1, 0, 0, 0, 0, 1, 0, 0 ,0, 1, 1, 0, 0, 0]\n",
        "ypred = [0, 0, 0, 0, 0, 0, 0, 1, 0, 1, 0, 1, 0, 0, 0, 0, 0, 0, 0, 0, 0, 0, 0, 0, 0]\n",
        "cm= metrics.confusion_matrix(ytest, ypred)\n",
        "print(cm)\n",
        "TP = cm[1, 1]\n",
        "TN = cm[0, 0]\n",
        "FP = cm[0, 1]\n",
        "FN = cm[1, 0]"
      ],
      "execution_count": null,
      "outputs": [
        {
          "output_type": "stream",
          "text": [
            "[[15  1]\n",
            " [ 7  2]]\n"
          ],
          "name": "stdout"
        }
      ]
    },
    {
      "cell_type": "code",
      "metadata": {
        "colab": {
          "base_uri": "https://localhost:8080/"
        },
        "id": "DovHbt8jDqYa",
        "outputId": "223f8813-4a18-42c7-91ae-44638e592783"
      },
      "source": [
        "#Accuracy (all correct / all) = TP + TN / TP + TN + FP + FN\n",
        "print((TP + TN) / float(TP + TN + FP + FN))\n",
        "print(metrics.accuracy_score(ytest, ypred))"
      ],
      "execution_count": null,
      "outputs": [
        {
          "output_type": "stream",
          "text": [
            "0.68\n",
            "0.68\n"
          ],
          "name": "stdout"
        }
      ]
    },
    {
      "cell_type": "code",
      "metadata": {
        "colab": {
          "base_uri": "https://localhost:8080/"
        },
        "id": "hNbtUssqD_d9",
        "outputId": "69f57502-7acf-404b-b6fa-e2107561c739"
      },
      "source": [
        "#Misclassification (all incorrect / all) = FP + FN / TP + TN + FP + FN\n",
        "misclassification = (FP + FN) / float(TP + TN + FP + FN)\n",
        "\n",
        "print(misclassification)\n",
        "print(1 - metrics.accuracy_score(ytest, ypred))"
      ],
      "execution_count": null,
      "outputs": [
        {
          "output_type": "stream",
          "text": [
            "0.32\n",
            "0.31999999999999995\n"
          ],
          "name": "stdout"
        }
      ]
    },
    {
      "cell_type": "code",
      "metadata": {
        "colab": {
          "base_uri": "https://localhost:8080/"
        },
        "id": "MSinYfLfNNVh",
        "outputId": "98d8906f-a845-4746-e0cd-06f6123a3324"
      },
      "source": [
        "#type 1 error rate = FP/FP+TN\n",
        "type1error_rate = FP / float(FP + TN)\n",
        "type1error_rate"
      ],
      "execution_count": null,
      "outputs": [
        {
          "output_type": "execute_result",
          "data": {
            "text/plain": [
              "0.0625"
            ]
          },
          "metadata": {
            "tags": []
          },
          "execution_count": 48
        }
      ]
    },
    {
      "cell_type": "code",
      "metadata": {
        "colab": {
          "base_uri": "https://localhost:8080/"
        },
        "id": "TE-9tY2ONmWt",
        "outputId": "51c3400b-c461-488f-ec40-b8097191652f"
      },
      "source": [
        "#type 2 error rate = FN/FN+TP\n",
        "type2error_rate = FN / float(FN + TP)\n",
        "type2error_rate"
      ],
      "execution_count": null,
      "outputs": [
        {
          "output_type": "execute_result",
          "data": {
            "text/plain": [
              "0.7777777777777778"
            ]
          },
          "metadata": {
            "tags": []
          },
          "execution_count": 46
        }
      ]
    },
    {
      "cell_type": "code",
      "metadata": {
        "colab": {
          "base_uri": "https://localhost:8080/"
        },
        "id": "FcnqT-ZYEhr9",
        "outputId": "f0c6558b-dbe4-415d-8466-0757ccc00d40"
      },
      "source": [
        "#Sensitivity aka Recall (true positives / all actual positives) = TP / TP + FN\n",
        "sensitivity = TP / float(FN + TP)\n",
        "\n",
        "print(sensitivity)\n",
        "print(metrics.recall_score(ytest, ypred))"
      ],
      "execution_count": null,
      "outputs": [
        {
          "output_type": "stream",
          "text": [
            "0.2222222222222222\n",
            "0.2222222222222222\n"
          ],
          "name": "stdout"
        }
      ]
    },
    {
      "cell_type": "code",
      "metadata": {
        "colab": {
          "base_uri": "https://localhost:8080/"
        },
        "id": "j7LOBbmmE1vJ",
        "outputId": "24072c51-6427-436c-a0c5-380a79576964"
      },
      "source": [
        "#Specificity (true negatives / all actual negatives) =TN / TN + FP\n",
        "specificity = TN / (TN + FP)\n",
        "\n",
        "print(specificity)"
      ],
      "execution_count": null,
      "outputs": [
        {
          "output_type": "stream",
          "text": [
            "0.9375\n"
          ],
          "name": "stdout"
        }
      ]
    }
  ]
}